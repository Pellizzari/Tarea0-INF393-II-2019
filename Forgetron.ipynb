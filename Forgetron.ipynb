{
 "cells": [
  {
   "cell_type": "code",
   "execution_count": 83,
   "metadata": {},
   "outputs": [
    {
     "name": "stdout",
     "output_type": "stream",
     "text": [
      "Tiempo de ejecución:   0.246958 segundos\n",
      "0.9195979899497487\n"
     ]
    }
   ],
   "source": [
    "import numpy as np\n",
    "\n",
    "#def predict(w, inputs):\n",
    "#    summation = np.dot(inputs, w)\n",
    "#   if summation > 0:\n",
    "#        activation = 1\n",
    "#    else:\n",
    "#        activation = 0\n",
    "#    return activation\n",
    "\n",
    "class Forgetron(object):\n",
    "    \n",
    "    # Constructor del Perceptrón. \n",
    "    #   Recibe como parámetro la cantidad de columnas \"no_of_inputs\" del dataset de entrenamiento.\n",
    "    \n",
    "    def __init__(self, no_of_inputs, iterations=1, learning_rate=0.5, output=[], acc=[]):\n",
    "      self.iterations = iterations\n",
    "      self.learning_rate = learning_rate\n",
    "      self.weights = np.zeros(no_of_inputs)\n",
    "      self.output = output\n",
    "      self.acc = list()\n",
    "           \n",
    "    # Función de predicción. \n",
    "    #   Recibe como parámetro el dataset(inputs) y el vector de soluciones(labels).\n",
    "    #   Retorna el valor de salida 0 ó 1, segun la sumatoria de Y[k]*X[i]X[k]\n",
    "    #   Además, registra dicho valor de salida en una lista de outputs.\n",
    "    \n",
    "    def predict(self, inputs, i, I,labels):\n",
    "        comb=0\n",
    "        for k in I:   \n",
    "            comb += labels[k] * np.dot(inputs[i], inputs[k])\n",
    "        if comb >= 0:\n",
    "            #self.output.append(1)\n",
    "            return 1\n",
    "        else:\n",
    "            #self.output.append(0)\n",
    "            return 0\n",
    "            #self.output.append(prediction)\n",
    "            \n",
    "    def predict2(self, inputs, i):\n",
    "        comb = np.dot(inputs, self.weights)\n",
    "        if comb > 0:\n",
    "            prediction = 1\n",
    "        else:\n",
    "            prediction = 0\n",
    "        self.output.append(prediction)\n",
    "            \n",
    "    # Función de entrenamiento. \n",
    "    #   Recibe como parámetro la data de entrenamiento y los resultados esperados para cada instancia del conjunto.\n",
    "    #   No tiene retorno. Su implementación es utilizada para actualizar el vector de pesos tras cada instancia\n",
    "    #   i del dataset. Asimismo, se calcula el accuracy del modelo tras cada una de éstas y se registra en una lista.\n",
    "    \n",
    "    def train(self, training_inputs, labels,K):\n",
    "        I=[]\n",
    "        n=0\n",
    "        for i in range(self.iterations):\n",
    "            for inputs, label in zip(training_inputs, labels):\n",
    "                prediction = self.predict(training_inputs, n,I,labels)\n",
    "                self.predict2(inputs,n)\n",
    "                if label!=prediction:\n",
    "                    if len(I)>K:\n",
    "                        #print(I)\n",
    "                        I.pop(0)\n",
    "                    I.append(n)\n",
    "                self.weights += self.learning_rate * (label - prediction) * inputs\n",
    "                self.acc.append(accuracy_score(labels[0:len(self.output)], self.output, normalize=True))\n",
    "                n=n+1\n",
    "                \n",
    "        \n",
    "from sklearn.model_selection import train_test_split\n",
    "from sklearn.datasets import load_breast_cancer\n",
    "from sklearn.preprocessing import StandardScaler\n",
    "from sklearn.metrics import accuracy_score\n",
    "from time import time\n",
    "\n",
    "dataset = load_breast_cancer()\n",
    "X = dataset.data\n",
    "y = dataset.target\n",
    "\n",
    "X_train, X_test, y_train, y_test = train_test_split(X, y, test_size = 0.3, random_state=123456)\n",
    "\n",
    "y_trained = []\n",
    "for i in y_train:\n",
    "    y_trained.append(i)\n",
    "\n",
    "scaler = StandardScaler().fit(X_train)\n",
    "X_train = scaler.transform(X_train)\n",
    "X_train = np.c_[X_train, np.ones(len(X_train)) ] #add columns of 1's if you want\n",
    "\n",
    "p = Forgetron(len(X_train[0]))\n",
    "start_time=time()\n",
    "p.train(X_train, y_trained,10)\n",
    "elapsed_time=time()-start_time\n",
    "print(\"Tiempo de ejecución: %10f segundos\" %elapsed_time)\n",
    "\n",
    "print(accuracy_score(y_trained, p.output, normalize=True))\n",
    "\n"
   ]
  },
  {
   "cell_type": "code",
   "execution_count": 77,
   "metadata": {},
   "outputs": [
    {
     "data": {
      "image/png": "[encoded data removed]",
      "text/plain": [
       "<Figure size 1080x504 with 1 Axes>"
      ]
     },
     "metadata": {
      "needs_background": "light"
     },
     "output_type": "display_data"
    }
   ],
   "source": [
    "import matplotlib.pyplot as plt\n",
    "\n",
    "x = [x for x in range(len(p.acc))]\n",
    "\n",
    "plt.figure(figsize=(15, 7))\n",
    "\n",
    "plt.ylim(0, 1)\n",
    "plt.plot(x, p.acc, color='b')\n",
    "plt.yticks(np.arange(0, 1.1, step=0.1))\n",
    "\n",
    "plt.xlabel('instance')\n",
    "plt.ylabel('accuracy')\n",
    "plt.title('Forgetron accuracy after i-th instance')\n",
    "plt.grid(True)\n",
    "\n",
    "plt.show()"
   ]
  }
 ],
 "metadata": {
  "kernelspec": {
   "display_name": "Python 3",
   "language": "python",
   "name": "python3"
  },
  "language_info": {
   "codemirror_mode": {
    "name": "ipython",
    "version": 3
   },
   "file_extension": ".py",
   "mimetype": "text/x-python",
   "name": "python",
   "nbconvert_exporter": "python",
   "pygments_lexer": "ipython3",
   "version": "3.7.3"
  }
 },
 "nbformat": 4,
 "nbformat_minor": 2
}
