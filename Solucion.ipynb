{
  "nbformat": 4,
  "nbformat_minor": 0,
  "metadata": {
    "kernelspec": {
      "name": "python3",
      "display_name": "Python 3"
    },
    "language_info": {
      "codemirror_mode": {
        "name": "ipython",
        "version": 3
      },
      "file_extension": ".py",
      "mimetype": "text/x-python",
      "name": "python",
      "nbconvert_exporter": "python",
      "pygments_lexer": "ipython3",
      "version": "3.7.3"
    },
    "colab": {
      "name": "Solucion.ipynb",
      "version": "0.3.2",
      "provenance": [],
      "collapsed_sections": [],
      "toc_visible": true,
      "include_colab_link": true
    },
    "accelerator": "GPU"
  },
  "cells": [
    {
      "cell_type": "markdown",
      "metadata": {
        "id": "view-in-github",
        "colab_type": "text"
      },
      "source": [
        "<a href=\"https://colab.research.google.com/github/Pellizzari/Tarea0-INF393-II-2019/blob/master/Solucion.ipynb\" target=\"_parent\"><img src=\"https://colab.research.google.com/assets/colab-badge.svg\" alt=\"Open In Colab\"/></a>"
      ]
    },
    {
      "cell_type": "markdown",
      "metadata": {
        "id": "DdRZIk7p2nTI",
        "colab_type": "text"
      },
      "source": [
        "<hr style=\"height:2px;border:none\"/>\n",
        "<h1 align='center'> INF-393 Máquinas de Aprendizaje II-2019 </h1>\n",
        "\n",
        "<H3 align='center'> Tarea 0 - Introducción a Máquinas de Aprendizaje </H3>\n",
        "\n",
        "<H5 align='center'>Giorgio Pellizzari Águila <br> Cristian Vallejos Pérez</H5> </H4>\n",
        "\n",
        "\n",
        "<hr style=\"height:2px;border:none\"/>"
      ]
    },
    {
      "cell_type": "markdown",
      "metadata": {
        "id": "C1264sty2nTJ",
        "colab_type": "text"
      },
      "source": [
        "<a id=\"primero\"></a>\n",
        "## 1. Perceptrón a mano\n",
        "\n",
        "> a) Escriba una función que calcule el valor de salida (*output*) del modelo $f(x)$ para un patrón de entrada $x$ a través de los pesos $w$ del modelo. *Decida si incluir los bias dentro de $w$ o manejarlos de manera separada*.\n",
        "\n",
        "**Resolución:**\n",
        "\n",
        "La función implementada a continuación permite predecir un valor de salida $0\\;ó\\;1$, a partir de un patrón de entrada $x$ y los correspondientes pesos $w$ de modelo. Desde este punto, se ha decidido incluir los bias dentro del vector $\\vec{w}$, por lo que la entrada $x$ debe incluir un vector columna $\\vec{1}$ al final."
      ]
    },
    {
      "cell_type": "code",
      "metadata": {
        "id": "0t0ZIStg3VIi",
        "colab_type": "code",
        "colab": {}
      },
      "source": [
        "import numpy as np\n",
        "\n",
        "def predict(inputs):\n",
        "  comb = np.dot(inputs, weights)\n",
        "  if comb > 0:\n",
        "    prediction = 1\n",
        "  else:\n",
        "    prediction = 0\n",
        "  return prediction"
      ],
      "execution_count": 0,
      "outputs": []
    },
    {
      "cell_type": "markdown",
      "metadata": {
        "id": "LQsDus6b6gOl",
        "colab_type": "text"
      },
      "source": [
        "> b) Escriba una función que implemente el clásico algoritmo del **Perceptrón** para un problema binario que permita entrenarlo en un conjunto de datos de tamaño $N$, leídos de manera *online* (uno a uno). *Recordar la decisión anterior sobre los bias*.\n",
        "\n",
        "**Resolución:**\n",
        "\n",
        "La siguiente clase (*Perceptron*) implementa el algoritmo del Perceptrón, utilizando la función predictora implementada en la parte *a)*. Asimismo, se incluye una función de entrenamiento que utiliza dicha función predictora para actualizar el vector $\\vec{w}$ a partir de cada instancia del dataset que se entregue al Perceptrón para su entrenamiento.\n",
        "\n",
        "Por último, la clase *Perceptron* incluye un atributo *iterations* para permitir que el Perceptrón aprenda tras $T$ repeticiones de su algoritmo; y un atributo *learning_rate*, el cual permitirá amortiguar las modificaciones a los distintos valores del vector $\\vec{w}$, siempre y cuando el valor predicho en la i-ésima iteración difiera del valor esperado."
      ]
    },
    {
      "cell_type": "code",
      "metadata": {
        "id": "Ks1PYoP16ght",
        "colab_type": "code",
        "colab": {}
      },
      "source": [
        "class Perceptron(object):\n",
        "    # Constructor del Perceptrón. \n",
        "    #   Recibe como parámetro la cantidad de columnas \"no_of_inputs\" del dataset de entrenamiento.\n",
        "    def __init__(self, no_of_inputs, iterations=1, learning_rate=0.01, output=[], acc=[]):\n",
        "      self.iterations = iterations\n",
        "      self.learning_rate = learning_rate\n",
        "      self.weights = np.zeros(no_of_inputs)\n",
        "      self.output = output\n",
        "      self.acc = list()\n",
        "           \n",
        "    # Función de predicción. \n",
        "    #   Recibe como parámetro un vector fila del dataset y un índice i.\n",
        "    #   Retorna el valor de salida 0 ó 1, tras verificar el resultado del producto punto.\n",
        "    #   Además, registra dicho valor de salida en una lista de outputs.\n",
        "    def predict(self, inputs, i):\n",
        "      comb = np.dot(inputs, self.weights)\n",
        "      if comb > 0:\n",
        "        prediction = 1\n",
        "      else:\n",
        "        prediction = 0\n",
        "      self.output.append(prediction)\n",
        "      return prediction\n",
        "           \n",
        "    # Función de entrenamiento. \n",
        "    #   Recibe como parámetro la data de entrenamiento y los resultados esperados para cada instancia del conjunto.\n",
        "    #   No tiene retorno. Su implementación es utilizada para actualizar el vector de pesos tras cada instancia\n",
        "    #   i del dataset. Asimismo, se calcula el accuracy del modelo tras cada una de éstas y se registra en una lista.\n",
        "    def train(self, training_inputs, labels):\n",
        "      for _ in range(self.iterations):\n",
        "        for inputs, label in zip(training_inputs, labels):\n",
        "          prediction = self.predict(inputs, i)\n",
        "          self.weights += self.learning_rate * (label - prediction) * inputs\n",
        "          self.acc.append(accuracy_score(labels[0:len(self.output)], self.output, normalize=True))"
      ],
      "execution_count": 0,
      "outputs": []
    },
    {
      "cell_type": "markdown",
      "metadata": {
        "id": "J7uvQRquFwim",
        "colab_type": "text"
      },
      "source": [
        "> c) Demuestre que lo implementado funciona en un problema real de clasificación. Para esto utilice el dataset **Breast cancer wisconsin**, disponible a través de la librería __[*sklearn*](http://scikit-learn.org)__, el cual corresponde a la detección de cancer mamario a través de características relevantes (numéricas continuas) de un examen realizado, como por ejemplo la textura, simetría y tamaño de una masa mamaria. Estas características deben combinarse linealmente para la detección del cancer.\n",
        "> <div class=\"alert alert-block alert-info\">Es una buena práctica el normalizar los datos antes de trabajar con el modelo:</div>\n",
        "\n",
        "**Resolución:**"
      ]
    },
    {
      "cell_type": "code",
      "metadata": {
        "id": "tUo50iQhF12i",
        "colab_type": "code",
        "colab": {}
      },
      "source": [
        "from sklearn.model_selection import train_test_split\n",
        "from sklearn.datasets import load_breast_cancer\n",
        "from sklearn.preprocessing import StandardScaler\n",
        "from sklearn.metrics import accuracy_score\n",
        "\n",
        "# Se carga el dataset y se separa en input y output\n",
        "dataset = load_breast_cancer()\n",
        "X = dataset.data; y = dataset.target\n",
        "\n",
        "# Se fragmenta la data en dos conjuntos: 1) entrenamiento y 2) pruebas.\n",
        "# Estos, a su vez, se separan en data entrante y data resultante.\n",
        "X_train, X_test, y_train, y_test = train_test_split(X, y, test_size = 0.3, random_state=123456)\n",
        "\n",
        "# Se traduce el conjunto de entrenamiento resultante en una lista.\n",
        "y_trained = []\n",
        "for i in y_train:\n",
        "  y_trained.append(i)\n",
        "\n",
        "# Se normalizan los datos del conjunto de entrenamiento entrante, agregando,\n",
        "# además, una columna de 1s que permita incluir el bias dentro del vector de pesos.\n",
        "scaler = StandardScaler().fit(X_train)\n",
        "X_train = scaler.transform(X_train)\n",
        "X_train = np.c_[X_train, np.ones(len(X_train))]"
      ],
      "execution_count": 0,
      "outputs": []
    },
    {
      "cell_type": "markdown",
      "metadata": {
        "id": "FWptEgxcDRCk",
        "colab_type": "text"
      },
      "source": [
        ""
      ]
    },
    {
      "cell_type": "markdown",
      "metadata": {
        "id": "yjtaQ1LsF3Uj",
        "colab_type": "text"
      },
      "source": [
        "Para evaluar los resultados mida la exactitud (*accuracy*) de la clasificación durante el entrenamiento (por cada iteración/instancia/dato) y grafique, utilice el conjunto de entrenamiento realizando una sola pasada (el objetivo de esta sección es familiarizarse con el algoritmo). Además reporte el tiempo de entrenamiento mediante el algoritmo implementado.\n",
        "\n",
        "**Resolución:**"
      ]
    },
    {
      "cell_type": "code",
      "metadata": {
        "id": "7PpOZ9_iGCL1",
        "colab_type": "code",
        "outputId": "0aed9efe-968d-46b4-9728-174c3e7cf5e7",
        "colab": {
          "base_uri": "https://localhost:8080/",
          "height": 164
        }
      },
      "source": [
        "# Se entrena el Perceptrón y se calcula el accuracy final del modelo tras 1 iteración/epoch.\n",
        "from time import time\n",
        "p = Perceptron(len(X_train[0]))\n",
        "start_time=time()\n",
        "p.train(X_train, y_trained)\n",
        "elapsed_time=time()-start_time\n",
        "print(\"Tiempo de ejecución: %10f segundos\" %elapsed_time)\n",
        "print(\"Accuracy final: %10f\" %accuracy_score(y_trained, p.output, normalize=True))\n",
        "print(p.weights)"
      ],
      "execution_count": 23,
      "outputs": [
        {
          "output_type": "stream",
          "text": [
            "Tiempo de ejecución:   0.121477 segundos\n",
            "Accuracy final:   0.952261\n",
            "[-0.01462052 -0.01463612 -0.01506946 -0.01446882 -0.01019205 -0.00401518\n",
            " -0.00892041 -0.01739891  0.00324545  0.0083001  -0.02194057 -0.02549721\n",
            " -0.01571235 -0.02107847 -0.00400347  0.02241383  0.00854457 -0.01167628\n",
            "  0.01898228  0.0130102  -0.02903338 -0.03718901 -0.02683495 -0.02716439\n",
            " -0.03036654 -0.00265024 -0.01638471 -0.03277402  0.00225211 -0.01077784\n",
            "  0.01      ]\n"
          ],
          "name": "stdout"
        }
      ]
    },
    {
      "cell_type": "code",
      "metadata": {
        "id": "9Uv40-2Rf9uF",
        "colab_type": "code",
        "outputId": "eb25213c-2c57-4731-8a46-f9fe6c5e7106",
        "colab": {
          "base_uri": "https://localhost:8080/",
          "height": 458
        }
      },
      "source": [
        "import matplotlib.pyplot as plt\n",
        "\n",
        "# Se grafica el accuracy del modelo tras cada instancia del conjunto de datos de entrenamiento\n",
        "x = [x for x in range(len(p.acc))]\n",
        "\n",
        "plt.figure(figsize=(15, 7)); plt.ylim(0, 1)\n",
        "plt.plot(x, p.acc, color='b')\n",
        "plt.yticks(np.arange(0, 1.1, step=0.1))\n",
        "plt.xlabel('instance'); plt.ylabel('accuracy')\n",
        "plt.title('Perceptron accuracy after i-th instance')\n",
        "plt.grid(True)\n",
        "\n",
        "plt.show()"
      ],
      "execution_count": 0,
      "outputs": [
        {
          "output_type": "display_data",
          "data": {
            "image/png": "[encoded data removed]",
            "text/plain": [
              "<Figure size 1080x504 with 1 Axes>"
            ]
          },
          "metadata": {
            "tags": []
          }
        }
      ]
    },
    {
      "cell_type": "markdown",
      "metadata": {
        "id": "MH7vXsuZYk4f",
        "colab_type": "text"
      },
      "source": [
        "> d) Escriba una función que implemente el **Forgetrón** [[3]](#refs) con una memoria de tamaño $K$ y la función de kernel como el producto interno (*inner-product*), esto es $<a,b> = \\sum_i a_i \\cdot b_i$.\n",
        "\n",
        "**Resolución:**"
      ]
    },
    {
      "cell_type": "code",
      "metadata": {
        "id": "67Nuu3PTYlGc",
        "colab_type": "code",
        "colab": {}
      },
      "source": [
        ""
      ],
      "execution_count": 0,
      "outputs": []
    },
    {
      "cell_type": "markdown",
      "metadata": {
        "id": "-JFL2e6eeVhr",
        "colab_type": "text"
      },
      "source": [
        "> e) Vuelva a realizar el item c) para el **Forgetrón** con un $K=10$ y compare los resultados.\n",
        "\n",
        "**Resolución:**"
      ]
    },
    {
      "cell_type": "code",
      "metadata": {
        "id": "-6QrS1QOeXMT",
        "colab_type": "code",
        "colab": {}
      },
      "source": [
        ""
      ],
      "execution_count": 0,
      "outputs": []
    },
    {
      "cell_type": "markdown",
      "metadata": {
        "id": "dD6Cjaui3Val",
        "colab_type": "text"
      },
      "source": [
        "### ¿Qué sucede al variar la función objetivo del problema? \n",
        "\n",
        "> f) Escriba una función que compute la función sigmoidal para una entrada $\\xi$ cualquiera. *Tenga cuidado con los límites de números que puede trabajar python (por ejemplo $\\exp{800}\\rightarrow +\\infty$)*. *Se aconseja acotar/truncar los valores que entran a la función para que la operación se pueda realizar*. Además escriba una función que calcule la salida del nuevo modelo $g(x; w,b)$ con esta función sigmoidal.\n",
        "\n",
        "**Resolución:**\n",
        "\n",
        "Debido al overflow causado cuando $\\xi \\notin\\,]-710,710[\\,$, se ha tomado la determinación de acotar la función sigmoidal de la siguiente manera:\n",
        "\n",
        "$$\n",
        "  \\sigma(\\xi) = \n",
        "     \\begin{cases}\n",
        "       1 & :\\quad\\text{if}\\;\\xi \\le -710\\\\\n",
        "       \\frac{1}{1+e^{-\\xi}} & :\\quad\\text{if}\\;-710 \\gt \\xi \\lt 710\\\\\n",
        "       0 & :\\quad\\text{if}\\;\\xi \\gt 709\\\\\n",
        "     \\end{cases}\n",
        "$$"
      ]
    },
    {
      "cell_type": "code",
      "metadata": {
        "id": "1q4lveXgX602",
        "colab_type": "code",
        "colab": {}
      },
      "source": [
        "# Función sigmoidal, acotada en -709 <= x <= 709.\n",
        "def sigmoidal(xi):\n",
        "  if xi <= -710:\n",
        "    return 1.0\n",
        "  elif xi > 709:\n",
        "    return 0.0\n",
        "  return 1/(1+np.exp(xi))\n",
        "\n",
        "# Nueva función de predicción, la cual incluye la sigmoidal anterior.\n",
        "def predict(inputs):\n",
        "  return sigmoidal(np.dot(inputs, weights))"
      ],
      "execution_count": 0,
      "outputs": []
    },
    {
      "cell_type": "markdown",
      "metadata": {
        "id": "h5aL5EyIdws7",
        "colab_type": "text"
      },
      "source": [
        "> g) Escriba una función que calcule la función de pérdida descrita anteriormente para un dato $x^{(i)}$, utilizando $g(x^{(i)};w,b)$. *Tenga cuidado con los límites del logaritmo (recordad que $\\log{0}\\rightarrow +\\infty$)*."
      ]
    },
    {
      "cell_type": "code",
      "metadata": {
        "id": "G035UrBcdw4i",
        "colab_type": "code",
        "colab": {}
      },
      "source": [
        "# Función de pérdida\n",
        "def loss(y_values, sigmoid_func):\n",
        "  return np.dots(-y, np.log(sigmoid_func)) - (1-y)"
      ],
      "execution_count": 0,
      "outputs": []
    },
    {
      "cell_type": "markdown",
      "metadata": {
        "id": "jXlZCvFlX7B1",
        "colab_type": "text"
      },
      "source": [
        "> h) Escriba una función que calcule el gradiente (derivada) de la función de pérdida anterior con respecto a los pesos del modelo $w$. *Se recomienda derivarla analíticamente y luego escribirla*. *Recuerde el uso de la regla de la cadena*.\n",
        "\n",
        "> i) Realice una modificación al algoritmo implementado en b) (**Perceptrón**) para que se adapte a la función objetivo *binary cross entropy* implementada, para ésto haga uso del algoritmo de optimización SGD [[4]](#refs) (*Stochastic Gradient Descend*) con tasa de aprendizaje $\\eta \\in [0,1]$.\n",
        "\n",
        "$$ \\vec{w}^{(t+1)} \\leftarrow \\vec{w}^{(t)} - \\eta \\cdot \\nabla_{\\vec{w}^{(t)}} \\ell $$\n",
        "\n",
        "> j) Vuelva a realizar el item c) con esta modificación, además grafique la función de pérdida en el transcurso del entrenamiento. Compare los resultados."
      ]
    },
    {
      "cell_type": "markdown",
      "metadata": {
        "id": "nXABEJsL2nTK",
        "colab_type": "text"
      },
      "source": [
        "<a id=\"refs\"></a>\n",
        "### Referencias\n",
        "[1] Hastie, T.; Tibshirani, R., Friedman, J. (2009), *The Elements of Statistical Learning*, Second Edition.\n",
        "Springer New York Inc.  \n",
        "[2] STEPHEN, I. (1990). *Perceptron-based learning algorithms*. IEEE Transactions on neural networks, 50(2), 179.  \n",
        "[3] Dekel, O., Shalev-Shwartz, S., & Singer, Y. (2006). *The Forgetron: A kernel-based perceptron on a fixed budget*. In Advances in neural information processing systems (pp. 259-266).  \n",
        "[4] Ruder, S. (2016). *An overview of gradient descent optimization algorithms*. arXiv preprint arXiv:1609.04747.  "
      ]
    }
  ]
}